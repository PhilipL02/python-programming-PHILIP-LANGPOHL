{
 "cells": [
  {
   "cell_type": "markdown",
   "metadata": {},
   "source": [
    "<a href=\"https://colab.research.google.com/github/pr0fez/AI24-Programmering/blob/master/Exercises/02-while-statement-exercise.ipynb\" target=\"_parent\"><img align=\"left\" src=\"https://colab.research.google.com/assets/colab-badge.svg\" alt=\"Open In Colab\"/></a> &nbsp; to see hints and answers."
   ]
  },
  {
   "cell_type": "markdown",
   "metadata": {},
   "source": [
    "# while statement exercises\n",
    "\n",
    "---\n",
    "These are introductory exercises in Python with focus in **while** statement.\n",
    "\n",
    "<p class = \"alert alert-info\" role=\"alert\"><b>Remember</b> to use <b>descriptive variable names</b> in order to get readable code </p>\n",
    "\n",
    "<p class = \"alert alert-info\" role=\"alert\"><b>Remember</b> to format your answers in a neat way using <b>f-strings</b>\n",
    "\n",
    "<p class = \"alert alert-info\" role=\"alert\"><b>Remember</b> to format your input questions in a pedagogical way to guide the user\n",
    "\n",
    "The number of stars (\\*), (\\*\\*), (\\*\\*\\*) denotes the difficulty level of the task\n",
    "\n",
    "---"
   ]
  },
  {
   "cell_type": "markdown",
   "metadata": {},
   "source": [
    "## 1. Count numbers (*)\n",
    "\n",
    "Use a **while** statement to count from -10 to 10 with one increment. \n",
    "\n",
    "<details>\n",
    "\n",
    "<summary>Hint </summary>\n",
    "\n",
    "```python\n",
    "\n",
    "i += 1 # adds one and assigns it to i, equivalent to i = i + 1\n",
    "```\n",
    "\n",
    "</details>\n",
    "<br>\n",
    "<details>\n",
    "\n",
    "<summary>Answer </summary>\n",
    "\n",
    "```\n",
    "\n",
    "-10 -9 -8 -7 -6 -5 -4 -3 -2 -1 0 1 2 3 4 5 6 7 8 9 10\n",
    "```\n",
    "\n",
    "</details>\n"
   ]
  },
  {
   "cell_type": "code",
   "execution_count": 3,
   "metadata": {},
   "outputs": [
    {
     "name": "stdout",
     "output_type": "stream",
     "text": [
      "Counter is -10\n",
      "Counter is -9\n",
      "Counter is -8\n",
      "Counter is -7\n",
      "Counter is -6\n",
      "Counter is -5\n",
      "Counter is -4\n",
      "Counter is -3\n",
      "Counter is -2\n",
      "Counter is -1\n",
      "Counter is 0\n",
      "Counter is 1\n",
      "Counter is 2\n",
      "Counter is 3\n",
      "Counter is 4\n",
      "Counter is 5\n",
      "Counter is 6\n",
      "Counter is 7\n",
      "Counter is 8\n",
      "Counter is 9\n",
      "Counter is 10 after the while loop\n"
     ]
    }
   ],
   "source": [
    "counter = -10\n",
    "\n",
    "while counter < 10:\n",
    "    print(f\"Counter is {counter}\")\n",
    "    counter += 1\n",
    "\n",
    "print(f\"Counter is {counter} after the while loop\")\n",
    "\n"
   ]
  },
  {
   "cell_type": "markdown",
   "metadata": {},
   "source": [
    "--- \n",
    "## 2. Arithmetic sum (*)\n",
    "Use a **while** statement to compute the following sums: \n",
    "\n",
    "&nbsp; a) &nbsp; $\\text{sum} = 1 + 2 + \\ldots + 99+ 100$\n",
    "\n",
    "&nbsp; b) &nbsp; $\\text{sum} = 1 + 3 + 5 + \\ldots + 97 + 99$\n",
    "\n",
    "<details>\n",
    "\n",
    "<summary>Answer </summary>\n",
    "\n",
    "```\n",
    "a) 1 + 2 + ... + 99 + 100 = 5050 \n",
    "\n",
    "b) 1 + 3 + 5 +...+ 97 + 99 = 2500\n",
    "```\n",
    "\n",
    "</details>"
   ]
  },
  {
   "cell_type": "code",
   "execution_count": 5,
   "metadata": {},
   "outputs": [
    {
     "name": "stdout",
     "output_type": "stream",
     "text": [
      "The sum for a) is 5050\n",
      "The sum for b) is 2500\n"
     ]
    }
   ],
   "source": [
    "sum_a = 0\n",
    "counter_a = 1\n",
    "\n",
    "while counter_a <= 100:\n",
    "    sum_a += counter_a\n",
    "    counter_a += 1\n",
    "\n",
    "print(f\"The sum for a) is {sum_a}\")\n",
    "\n",
    "sum_b = 0\n",
    "counter_b = 1\n",
    "\n",
    "while counter_b <= 99:\n",
    "    sum_b += counter_b\n",
    "    counter_b += 2\n",
    "\n",
    "print(f\"The sum for b) is {sum_b}\")"
   ]
  },
  {
   "cell_type": "markdown",
   "metadata": {},
   "source": [
    "--- \n",
    "## 3. Guess number game (*)\n",
    "&nbsp; a) &nbsp; Create a guessing number game following this flow chart: \n",
    "\n",
    "<img align=\"left\" src=\"../assets/guessing_game.png\" width=\"300\"/>"
   ]
  },
  {
   "cell_type": "markdown",
   "metadata": {},
   "source": [
    "&nbsp; b) &nbsp; Make an algorithm to automatically guess the correct number. Can you optimize to get as few guesses as possible? (**)\n",
    "\n",
    "<details>\n",
    "\n",
    "<summary>Hint </summary>\n",
    "\n",
    "&nbsp; b) &nbsp; Half your testing number each time \n",
    "\n",
    "</details>"
   ]
  },
  {
   "cell_type": "code",
   "execution_count": 8,
   "metadata": {},
   "outputs": [
    {
     "name": "stdout",
     "output_type": "stream",
     "text": [
      "The number is greater than 2\n",
      "The number is greater than 66\n",
      "The number is smaller than 88\n",
      "The number is smaller than 77\n",
      "The number is greater than 73\n",
      "The number is smaller than 75\n",
      "Congrats you won! The number was 74\n"
     ]
    }
   ],
   "source": [
    "import random\n",
    "\n",
    "random_int = random.randint(1, 100)\n",
    "\n",
    "def get_user_guess():\n",
    "    try:\n",
    "        user_guess = int(input(\"Guess number: \"))\n",
    "        return user_guess\n",
    "    except: \n",
    "        print(\"Only input valid number\")\n",
    "        return get_user_guess()\n",
    "\n",
    "is_guessing = True\n",
    "\n",
    "while is_guessing:\n",
    "    user_guess = get_user_guess()\n",
    "\n",
    "    if user_guess == random_int:\n",
    "        is_guessing = False\n",
    "        print(f\"Congrats you won! The number was {random_int}\")\n",
    "        break\n",
    "    else: \n",
    "        if random_int < user_guess:\n",
    "            print(f\"The number is smaller than {user_guess}\")\n",
    "        else:\n",
    "            print(f\"The number is greater than {user_guess}\")"
   ]
  },
  {
   "cell_type": "markdown",
   "metadata": {},
   "source": [
    "--- \n",
    "## 4. Multiplication game (*)\n",
    "&nbsp; a) &nbsp; Create a multiplication game following this flow chart: \n",
    "\n",
    "<img align=\"left\" src=\"../assets/Multiplication_game.png\" width=\"300\"/>"
   ]
  },
  {
   "cell_type": "markdown",
   "metadata": {},
   "source": [
    "&nbsp; b) &nbsp; Add a menu for choosing difficulty level of the game\n",
    "\n",
    "&nbsp; c) &nbsp; Feel free to extend this program with features of your choice."
   ]
  },
  {
   "cell_type": "code",
   "execution_count": 15,
   "metadata": {},
   "outputs": [
    {
     "name": "stdout",
     "output_type": "stream",
     "text": [
      "Good work!\n",
      "Good work!\n",
      "Only input valid number\n",
      "Only input valid number\n",
      "Only input valid number\n",
      "Wrong! The correct answer for 6*8 is 48\n",
      "Good work!\n",
      "Good work!\n",
      "Good work!\n",
      "Only input valid number\n",
      "Only input valid number\n",
      "Only input valid number\n",
      "Only input valid number\n",
      "Only input valid number\n",
      "Only input valid number\n",
      "Only input valid number\n",
      "Only input valid number\n",
      "Wrong! The correct answer for 1*1 is 1\n",
      "Thank you for playing! Your score was 5\n"
     ]
    }
   ],
   "source": [
    "import random\n",
    "\n",
    "def get_user_answer(x, y):\n",
    "    try:\n",
    "        user_answer = int(input(f\"What is {x}*{y}? \"))\n",
    "        return user_answer\n",
    "    except: \n",
    "        print(\"Only input valid number\")\n",
    "        return get_user_answer(x, y)\n",
    "\n",
    "\n",
    "def play_game():\n",
    "    score = 0\n",
    "    is_playing = True\n",
    "\n",
    "    while is_playing:\n",
    "        x = random.randint(1, 10)\n",
    "        y = random.randint(1, 10)\n",
    "\n",
    "        answer = x * y\n",
    "\n",
    "        user_answer = get_user_answer(x, y)\n",
    "\n",
    "        if answer == user_answer:\n",
    "            print(\"Good work!\")\n",
    "            score += 1\n",
    "        else:\n",
    "            print(f\"Wrong! The correct answer for {x}*{y} is {answer}\")\n",
    "\n",
    "        want_to_play_again = input(\"Play again? (y for yes) \") == \"y\"\n",
    "\n",
    "        if not want_to_play_again:\n",
    "            print(f\"Thank you for playing! Your score was {score}\")\n",
    "            is_playing = False\n",
    "\n",
    "\n",
    "play_game()"
   ]
  },
  {
   "cell_type": "markdown",
   "metadata": {},
   "source": [
    "--- \n",
    "## 5. Check convergence (**)\n",
    "Use a while statement to compute the following sums: \n",
    "\n",
    "&nbsp; a) &nbsp; $\\text{sum} = 1 + \\frac{1}{2} + \\frac{1}{4} + \\frac{1}{8} + \\dots + \\frac{1}{2^n}$\n",
    "\n",
    "&nbsp; b) &nbsp; $\\text{sum} = 1 - \\frac{1}{3} + \\frac{1}{5} - \\frac{1}{7} + \\dots + \\frac{(-1)^n}{2n+1}$\n",
    "\n",
    "Try different values on $n$ to see which value it converges to.\n",
    "\n",
    "<details>\n",
    "\n",
    "<summary>Answer </summary>\n",
    "\n",
    "&nbsp; a) &nbsp; $1 + \\frac{1}{2} + \\frac{1}{4} + \\frac{1}{8} + \\dots + \\frac{1}{2^n} \\xrightarrow[n\\rightarrow \\infty]{} 2$ \n",
    "\n",
    "&nbsp; b) &nbsp; $ 1 - \\frac{1}{3} + \\frac{1}{5} - \\frac{1}{7} + \\dots + \\frac{(-1)^n}{2n+1} \\xrightarrow[n\\rightarrow \\infty]{} \\frac{\\pi}{4}$\n",
    "\n",
    "</details>"
   ]
  },
  {
   "cell_type": "code",
   "execution_count": 4,
   "metadata": {},
   "outputs": [
    {
     "name": "stdout",
     "output_type": "stream",
     "text": [
      "Number of iterations: 1000002\n",
      " Sum: 0.7854 or 0.2500pi\n"
     ]
    }
   ],
   "source": [
    "import numpy as np\n",
    "\n",
    "def term(n):\n",
    "    return np.divide(np.float_power((-1), n), 2*n+1)\n",
    "\n",
    "n = 0\n",
    "acc = 0\n",
    "v = 0\n",
    "e = 1\n",
    "while e > np.float_power(10, -6):\n",
    "    prev = v\n",
    "    v = term(n)\n",
    "    e = np.absolute(prev - v)\n",
    "    acc += v\n",
    "    n += 1\n",
    "\n",
    "print(f\"Number of iterations: {n}\\n Sum: {acc:.4f} or {np.divide(acc, np.pi):.4f}pi\")"
   ]
  },
  {
   "cell_type": "code",
   "execution_count": 11,
   "metadata": {},
   "outputs": [
    {
     "name": "stdout",
     "output_type": "stream",
     "text": [
      "Sum: 0.7854 or 0.2500pi\n"
     ]
    }
   ],
   "source": [
    "X = np.arange(1000000)\n",
    "s = np.sum(term(X))\n",
    "\n",
    "print(f\"Sum: {s:.4f} or {np.divide(s, np.pi):.4f}pi\")"
   ]
  },
  {
   "cell_type": "markdown",
   "metadata": {},
   "source": [
    "---\n",
    "\n",
    "pr0fez Giang\n",
    "\n",
    "[LinkedIn][linkedIn_pr0fez]\n",
    "\n",
    "[GitHub portfolio][github_portfolio]\n",
    "\n",
    "[linkedIn_pr0fez]: https://www.linkedin.com/in/pr0fezgiang/\n",
    "[github_portfolio]: https://github.com/pr0fez/Portfolio-pr0fez-Giang\n",
    "\n",
    "---"
   ]
  }
 ],
 "metadata": {
  "kernelspec": {
   "display_name": "Python 3.9.6 64-bit",
   "language": "python",
   "name": "python3"
  },
  "language_info": {
   "codemirror_mode": {
    "name": "ipython",
    "version": 3
   },
   "file_extension": ".py",
   "mimetype": "text/x-python",
   "name": "python",
   "nbconvert_exporter": "python",
   "pygments_lexer": "ipython3",
   "version": "3.12.5"
  },
  "orig_nbformat": 4,
  "vscode": {
   "interpreter": {
    "hash": "0da836a34428266995a795f1e1e27b816fa1c02f148d9728b3fbbbc5459afca6"
   }
  }
 },
 "nbformat": 4,
 "nbformat_minor": 2
}
