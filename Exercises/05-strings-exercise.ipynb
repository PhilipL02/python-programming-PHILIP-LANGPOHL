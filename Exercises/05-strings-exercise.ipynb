{
 "cells": [
  {
   "cell_type": "markdown",
   "metadata": {},
   "source": [
    "<a href=\"https://colab.research.google.com/github/pr0fez/AI24-Programmering/blob/master/Exercises/05-strings-exercise.ipynb\" target=\"_parent\"><img align=\"left\" src=\"https://colab.research.google.com/assets/colab-badge.svg\" alt=\"Open In Colab\"/></a> &nbsp; to see hints and answers."
   ]
  },
  {
   "cell_type": "markdown",
   "metadata": {},
   "source": [
    "# strings exercises\n",
    "\n",
    "---\n",
    "These are introductory exercises in Python with focus in **strings**.\n",
    "\n",
    "<p class = \"alert alert-info\" role=\"alert\"><b>Remember</b> to use <b>descriptive variable names</b> in order to get readable code </p>\n",
    "\n",
    "<p class = \"alert alert-info\" role=\"alert\"><b>Remember</b> to format your answers in a neat way using <b>f-strings</b>\n",
    "\n",
    "<p class = \"alert alert-info\" role=\"alert\"><b>Remember</b> to format your input questions in a pedagogical way to guide the user\n",
    "\n",
    "The number of stars (\\*), (\\*\\*), (\\*\\*\\*) denotes the difficulty level of the task\n",
    "\n",
    "---"
   ]
  },
  {
   "cell_type": "markdown",
   "metadata": {},
   "source": [
    "## 1. Counting letters (*)\n",
    "\n",
    "Let the user input a word: \n",
    "\n",
    "&nbsp; a) &nbsp; print out the number of letters in the word. (*) \n",
    "  \n",
    "&nbsp; b) &nbsp; print out the number of **uppercase** and **lowercase** letters of the word (*)   \n"
   ]
  },
  {
   "cell_type": "code",
   "execution_count": 4,
   "metadata": {},
   "outputs": [
    {
     "name": "stdout",
     "output_type": "stream",
     "text": [
      "a) Number of letters: 11\n",
      "b) Uppercase: 6, Lowercase: 5\n"
     ]
    }
   ],
   "source": [
    "word = input(\"Input a word: \")\n",
    "\n",
    "# a)\n",
    "number_of_letters = len(word)\n",
    "print(\"a)\", f\"Number of letters: {number_of_letters}\")\n",
    "\n",
    "number_of_uppercase = 0\n",
    "number_of_lowercase = 0\n",
    "for letter in word:\n",
    "    if letter.isupper():\n",
    "        number_of_uppercase += 1\n",
    "    else:\n",
    "        number_of_lowercase += 1\n",
    "        \n",
    "print(\"b)\", f\"Uppercase: {number_of_uppercase}, Lowercase: {number_of_lowercase}\")"
   ]
  },
  {
   "cell_type": "markdown",
   "metadata": {},
   "source": [
    "---\n",
    "## 2. Counting words (*)\n",
    "\n",
    "Count the number of words in this sentence: \"A picture says more than a thousand words, a matematical formula says more than a thousand pictures.\" (*) \n",
    "\n",
    "<details>\n",
    "\n",
    "<summary>Answer</summary>\n",
    "\n",
    "```\n",
    "There are 17 words in that sentence\n",
    "```"
   ]
  },
  {
   "cell_type": "code",
   "execution_count": 7,
   "metadata": {},
   "outputs": [
    {
     "name": "stdout",
     "output_type": "stream",
     "text": [
      "There are 17 words in the sentence.\n"
     ]
    }
   ],
   "source": [
    "sentence = \"A picture says more than a thousand words, a matematical formula says more than a thousand pictures.\"\n",
    "\n",
    "number_of_words = len(sentence.split(\" \"))\n",
    "\n",
    "print(f\"There are {number_of_words} words in the sentence.\")"
   ]
  },
  {
   "cell_type": "markdown",
   "metadata": {},
   "source": [
    "---\n",
    "## 3. Palindrome (*)\n",
    "\n",
    "A palindrome is a sequence of characters that is the same, when read forward as backwards (ignoring spaces). For example:\n",
    "- \"Anna\" is a palindrome\n",
    "- \"Ni talar bra latin\"\n",
    "- bjkjb \n",
    "\n",
    "Let the user input a sequence of characters and check if it is a palindrome. (*)"
   ]
  },
  {
   "cell_type": "code",
   "execution_count": 13,
   "metadata": {},
   "outputs": [
    {
     "name": "stdout",
     "output_type": "stream",
     "text": [
      "Your inputed sequence of characters is a palindrome.\n"
     ]
    }
   ],
   "source": [
    "user_string = input(\"Input a sequence of characters: \")\n",
    "user_string = user_string.replace(\" \", \"\")\n",
    "\n",
    "if user_string == user_string[::-1]:\n",
    "    print(\"Your inputed sequence of characters is a palindrome.\")\n",
    "else:\n",
    "    print(\"That was NOT a palindrome.\")"
   ]
  },
  {
   "cell_type": "markdown",
   "metadata": {},
   "source": [
    "---\n",
    "## 4. Vowels (**)\n",
    "\n",
    "Count the number of vowels in this sentence: \"Pure mathematics is, in its way, the poetry of logical ideas\"\n",
    "\n",
    "<details>\n",
    "\n",
    "<summary>Answer</summary>\n",
    "\n",
    "```\n",
    "\n",
    "There are 22 vowels in this sentence\n",
    "\n",
    "```\n",
    "</details>"
   ]
  },
  {
   "cell_type": "code",
   "execution_count": 14,
   "metadata": {},
   "outputs": [
    {
     "name": "stdout",
     "output_type": "stream",
     "text": [
      "The total number of vowels in the sentence is 22\n"
     ]
    }
   ],
   "source": [
    "vowels = [\"a\", \"e\", \"i\", \"o\", \"u\", \"y\", \"å\", \"ä\", \"ö\"]\n",
    "\n",
    "sentence = \"Pure mathematics is, in its way, the poetry of logical ideas\"\n",
    "\n",
    "number_of_vowels = 0\n",
    "for letter in sentence:\n",
    "    if letter.lower() in vowels:\n",
    "        number_of_vowels += 1\n",
    "    \n",
    "print(f\"The total number of vowels in the sentence is {number_of_vowels}\")"
   ]
  },
  {
   "cell_type": "markdown",
   "metadata": {},
   "source": [
    "---\n",
    "## 5. Encryption (**)\n",
    "\n",
    "Let the user input a word and: \n",
    "\n",
    "&nbsp; a) &nbsp; encrypt the message by replacing each letter with the next letter. If the letter is in the end of the alphabet, use the first letter instead. \n",
    "\n",
    "e.g. in Swedish: \"höst\" $\\rightarrow$ \"iatu\"\n",
    "\n",
    "&nbsp; b) &nbsp; decrypt the message\n",
    "\n",
    "&nbsp; c) &nbsp; let the user choose either encryption or decryption."
   ]
  },
  {
   "cell_type": "code",
   "execution_count": 1,
   "metadata": {},
   "outputs": [
    {
     "name": "stdout",
     "output_type": "stream",
     "text": [
      "The encrypted word: ifk IKFFFFLLM kwlrkemwre\n"
     ]
    }
   ],
   "source": [
    "user_word = input(\"Input a word: \")\n",
    "alphabet = \"ABCDEFGHIJKLMNOPQRTSUVXYZÅÄÖ\"\n",
    "\n",
    "def encrypt_string(string: str):\n",
    "    new_string = \"\"\n",
    "    for letter in string:\n",
    "        if letter.upper() in alphabet:\n",
    "            is_upper = letter.isupper()\n",
    "\n",
    "            index_in_alphabet = alphabet.index(letter.upper())\n",
    "            next_index_in_alphabet = index_in_alphabet + 1\n",
    "\n",
    "            if next_index_in_alphabet >= len(alphabet):\n",
    "                new_letter = alphabet[0]\n",
    "            else:\n",
    "                new_letter = alphabet[next_index_in_alphabet]\n",
    "\n",
    "            if is_upper:\n",
    "                new_string += new_letter.upper()\n",
    "            else:\n",
    "                new_string += new_letter.lower()\n",
    "        else:\n",
    "            new_string += letter\n",
    "\n",
    "    \n",
    "    return new_string\n",
    "\n",
    "\n",
    "def decrypt_string(string: str):\n",
    "    new_string = \"\"\n",
    "    for letter in string:\n",
    "        if letter.upper() in alphabet:\n",
    "            is_upper = letter.isupper()\n",
    "\n",
    "            index_in_alphabet = alphabet.index(letter.upper())\n",
    "            previous_index_in_alphabet = index_in_alphabet - 1\n",
    "\n",
    "            if previous_index_in_alphabet < 0:\n",
    "                new_letter = alphabet[-1]\n",
    "            else:\n",
    "                new_letter = alphabet[previous_index_in_alphabet]\n",
    "\n",
    "            if is_upper:\n",
    "                new_string += new_letter.upper()\n",
    "            else:\n",
    "                new_string += new_letter.lower()\n",
    "        else:\n",
    "            new_string += letter\n",
    "    \n",
    "    return new_string\n",
    "\n",
    "choice = input(\"Do you want to encrypt or decrypt? (e / d): \")\n",
    "if choice == \"e\":\n",
    "    encrypted_word = encrypt_string(user_word)\n",
    "    print(f\"The encrypted word: {encrypted_word}\")\n",
    "elif choice == \"d\":\n",
    "    decrypted_word = decrypt_string(user_word)\n",
    "    print(f\"The decrypted word: {decrypted_word}\")\n"
   ]
  },
  {
   "cell_type": "markdown",
   "metadata": {},
   "source": [
    "---\n",
    "\n",
    "pr0fez Giang\n",
    "\n",
    "[LinkedIn][linkedIn_pr0fez]\n",
    "\n",
    "[GitHub portfolio][github_portfolio]\n",
    "\n",
    "[linkedIn_pr0fez]: https://www.linkedin.com/in/pr0fezgiang/\n",
    "[github_portfolio]: https://github.com/pr0fez/Portfolio-pr0fez-Giang\n",
    "\n",
    "---"
   ]
  }
 ],
 "metadata": {
  "kernelspec": {
   "display_name": "Python 3.9.6 64-bit",
   "language": "python",
   "name": "python3"
  },
  "language_info": {
   "codemirror_mode": {
    "name": "ipython",
    "version": 3
   },
   "file_extension": ".py",
   "mimetype": "text/x-python",
   "name": "python",
   "nbconvert_exporter": "python",
   "pygments_lexer": "ipython3",
   "version": "3.12.5"
  },
  "orig_nbformat": 4,
  "vscode": {
   "interpreter": {
    "hash": "0da836a34428266995a795f1e1e27b816fa1c02f148d9728b3fbbbc5459afca6"
   }
  }
 },
 "nbformat": 4,
 "nbformat_minor": 2
}
