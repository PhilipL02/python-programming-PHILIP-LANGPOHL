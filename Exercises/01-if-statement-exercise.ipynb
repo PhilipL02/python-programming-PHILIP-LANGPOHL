{
 "cells": [
  {
   "cell_type": "markdown",
   "metadata": {},
   "source": [
    "\n",
    "<a href=\"https://colab.research.google.com/github/pr0fez/AI24-Programmering/blob/master/Exercises/01-if-statement-exercise.ipynb\" target=\"_parent\"><img align=\"left\" src=\"https://colab.research.google.com/assets/colab-badge.svg\" alt=\"Open In Colab\"/></a> &nbsp; to see hints and answers."
   ]
  },
  {
   "cell_type": "markdown",
   "metadata": {},
   "source": [
    "# if statements exercises\n",
    "\n",
    "---\n",
    "These are introductory exercises in Python with focus in **if** statement.\n",
    "\n",
    "<p class = \"alert alert-info\" role=\"alert\"><b>Remember</b> to use <b>descriptive variable names</b> in order to get readable code </p>\n",
    "\n",
    "<p class = \"alert alert-info\" role=\"alert\"><b>Remember</b> to format your answers in a neat way using <b>f-strings</b>\n",
    "\n",
    "<p class = \"alert alert-info\" role=\"alert\"><b>Remember</b> to format your input questions in a pedagogical way to guide the user\n",
    "\n",
    "The number of stars (\\*), (\\*\\*), (\\*\\*\\*) denotes the difficulty level of the task\n",
    "\n",
    "---"
   ]
  },
  {
   "cell_type": "markdown",
   "metadata": {},
   "source": [
    "## 1. Check sign (*)\n",
    "\n",
    "Ask the user to input a number and check if this number is **positive**, **negative** or **zero** and print it."
   ]
  },
  {
   "cell_type": "code",
   "execution_count": 11,
   "metadata": {},
   "outputs": [
    {
     "name": "stdout",
     "output_type": "stream",
     "text": [
      "The number 0 is zero\n"
     ]
    }
   ],
   "source": [
    "number_choice = int(input('Input a number: '))\n",
    "\n",
    "if number_choice > 0:\n",
    "    print(f'The number {number_choice} is positive')\n",
    "elif number_choice < 0:\n",
    "    print(f'The number {number_choice} is negative')\n",
    "else:\n",
    "    print(f'The number {number_choice} is zero')"
   ]
  },
  {
   "cell_type": "markdown",
   "metadata": {},
   "source": [
    "---\n",
    "## 2. Smallest (*)\n",
    "Ask the user to input two numbers and check which one is the smallest and print it out.   "
   ]
  },
  {
   "cell_type": "code",
   "execution_count": 8,
   "metadata": {},
   "outputs": [
    {
     "name": "stdout",
     "output_type": "stream",
     "text": [
      "First number: 2\n",
      "Second number: 2\n",
      "The numbers are equal (2 == 2)\n"
     ]
    }
   ],
   "source": [
    "first_number = int(input(\"Input first number: \"))\n",
    "second_number = int(input(\"Input second number: \"))\n",
    "\n",
    "print(f\"First number: {first_number}\")\n",
    "print(f\"Second number: {second_number}\")\n",
    "if first_number < second_number:\n",
    "    print(f\"First number is smaller ({first_number} < {second_number})\")\n",
    "elif second_number < first_number:\n",
    "    print(f\"Second number is smaller ({second_number} < {first_number})\")\n",
    "else:\n",
    "    print(f\"The numbers are equal ({first_number} == {second_number})\")"
   ]
  },
  {
   "cell_type": "markdown",
   "metadata": {},
   "source": [
    "---\n",
    "## 3. Right angle (*)\n",
    "\n",
    "Ask the user to input three angles and check if the triangle has a right angle. Your code should make sure that all three angles are valid and make up a triangle.\n",
    "\n",
    "<img align=\"left\" src=\"../assets/triangle_angles.png\" width=\"200\"/>"
   ]
  },
  {
   "cell_type": "code",
   "execution_count": 24,
   "metadata": {},
   "outputs": [
    {
     "name": "stdout",
     "output_type": "stream",
     "text": [
      "The triangle does not have a right angle.\n"
     ]
    }
   ],
   "source": [
    "# Function to check if the angles form a valid triangle\n",
    "def is_valid_triangle(angles):\n",
    "    return sum(angles) == 180 and all(0 < angle < 180 for angle in angles)\n",
    "\n",
    "# Function to check if the triangle has a right angle\n",
    "def is_right_angle_triangle(angles):\n",
    "    return 90 in angles\n",
    "\n",
    "def start_input_triangle_angles():\n",
    "    try:\n",
    "        angles = [float(input(f\"Enter angle {i+1}: \")) for i in range(3)]\n",
    "    except ValueError:\n",
    "        print(\"Please enter valid numerical values for the angles.\")\n",
    "        return\n",
    "\n",
    "    # Check if it's a valid triangle\n",
    "    if is_valid_triangle(angles):\n",
    "        # Check if the triangle has a right angle\n",
    "        if is_right_angle_triangle(angles):\n",
    "            print(\"The triangle has a right angle.\")\n",
    "        else:\n",
    "            print(\"The triangle does not have a right angle.\")\n",
    "    else:\n",
    "        print(\"The angles do not form a valid triangle.\")\n",
    "\n",
    "\n",
    "start_input_triangle_angles()"
   ]
  },
  {
   "cell_type": "markdown",
   "metadata": {},
   "source": [
    "----\n",
    "## 4. Medicine (*)\n",
    "\n",
    "The information in the following table is stated in a medicine package. Also it is stated that for children weight is more important than age.\n",
    "\n",
    "<table align=\"left\">\n",
    "<thead>\n",
    "    <tr>\n",
    "        <th></th>\n",
    "        <th>Age</th>\n",
    "        <th>Number of pills</th>\n",
    "    </tr>\n",
    "</thead>\n",
    "\n",
    "<tbody>\n",
    "  <tr>\n",
    "    <td>Adults & adolescent <br>over 40 kg</td>\n",
    "    <td>over 12 years</td>\n",
    "    <td>1-2</td>\n",
    "  </tr>\n",
    "\n",
    "  <tr>\n",
    "    <td>Children 26-40 kg</td>\n",
    "    <td>7-12 years</td>\n",
    "    <td>1/2-1</td>\n",
    "  </tr>\n",
    "\n",
    "  <tr>\n",
    "    <td>Children 15-25 kg</td>\n",
    "    <td>3-7 years</td>\n",
    "    <td>1/2</td>\n",
    "  </tr>\n",
    "</tbody>\n",
    "</table>"
   ]
  },
  {
   "cell_type": "markdown",
   "metadata": {},
   "source": [
    "Let the user input an **age** and a **weight**, the program should recommend the number of pills for the user."
   ]
  },
  {
   "cell_type": "code",
   "execution_count": 29,
   "metadata": {},
   "outputs": [
    {
     "name": "stdout",
     "output_type": "stream",
     "text": [
      "The age: 4\n",
      "The weight: 27.0\n",
      "Recommended number of pills: 1/2-1.\n"
     ]
    }
   ],
   "source": [
    "try:\n",
    "    age = int(input(\"Enter the age: \"))\n",
    "    weight = float(input(\"Enter the weight (in kg): \"))\n",
    "\n",
    "    print(f\"The age: {age}\")\n",
    "    print(f\"The weight: {weight}\")\n",
    "\n",
    "    if weight > 40 and age > 12:\n",
    "        print(\"Recommended number of pills: 1-2.\")\n",
    "    elif 26 <= weight <= 40 and 3 <= age <= 12:\n",
    "        print(\"Recommended number of pills: 1/2-1.\")\n",
    "    elif 15 <= weight <= 25 and 3 <= age <= 7:\n",
    "        print(\"Recommended number of pills: 1/2.\")\n",
    "    elif age < 3:\n",
    "        print(\"You are too young for this pill.\")\n",
    "    else:\n",
    "        print(\"No recommendation available for the given age and weight.\")\n",
    "except ValueError:\n",
    "    print(\"Please enter valid numerical values for age and weight.\")"
   ]
  },
  {
   "cell_type": "markdown",
   "metadata": {},
   "source": [
    "---\n",
    "## 5. Divisible (*)\n",
    "Let the user input a number. Check if the number is\n",
    "<ol type=\"a\">\n",
    "  <li>even or odd</li>\n",
    "  <li>is divisible by 5</li>\n",
    "  <li>is divisble by 5 and odd</li>\n",
    "</ol> "
   ]
  },
  {
   "cell_type": "code",
   "execution_count": 38,
   "metadata": {},
   "outputs": [
    {
     "name": "stdout",
     "output_type": "stream",
     "text": [
      "The number 25 is odd\n",
      "The number 25 is divisible by 5\n",
      "The number 25 is both divisible by 5 and odd\n"
     ]
    }
   ],
   "source": [
    "def let_user_input_number():\n",
    "    try:\n",
    "        chosen_number = int(input(\"Choose a number: \"))\n",
    "    except ValueError:\n",
    "        print(\"Please enter a number.\")\n",
    "        return\n",
    "\n",
    "    # a)\n",
    "    is_number_even = chosen_number % 2 == 0\n",
    "    print(f\"The number {chosen_number} is {'even' if is_number_even else 'odd'}\")\n",
    "\n",
    "    # b)\n",
    "    is_number_divisible_by_5 = chosen_number % 5 == 0\n",
    "    print(f\"The number {chosen_number} is {'divisible by 5' if is_number_divisible_by_5 else 'not divisible by 5'}\")\n",
    "\n",
    "    # c)\n",
    "    is_number_divisible_by_5_and_odd = is_number_divisible_by_5 and not is_number_even\n",
    "    print(f\"The number {chosen_number} is {'both divisible by 5 and odd' if is_number_divisible_by_5_and_odd else 'not both divisible by 5 and odd'}\")\n",
    "\n",
    "\n",
    "let_user_input_number()"
   ]
  },
  {
   "cell_type": "markdown",
   "metadata": {},
   "source": [
    "---\n",
    "## 6. Luggage size (*)\n",
    "\n",
    "The maximum allowed luggage size for boarding an airplane is: \n",
    "- weight: 8kg\n",
    "- dimensions: 55x40x23cm (length x width x height) \n",
    "\n",
    "Let the user input weight, length, width and height of the luggage. The program should check if the luggage is allowed or not."
   ]
  },
  {
   "cell_type": "code",
   "execution_count": 50,
   "metadata": {},
   "outputs": [
    {
     "name": "stdout",
     "output_type": "stream",
     "text": [
      "The luggage is allowed on the airplane\n"
     ]
    }
   ],
   "source": [
    "import numpy as np\n",
    "\n",
    "def check_if_luggage_is_allowed():\n",
    "    # Define the maximum allowed limits\n",
    "    max_weight = 8.0\n",
    "    max_dimensions = [55, 40, 23]\n",
    "\n",
    "    try:\n",
    "        weight = float(input(\"Input a weight (kg): \"))\n",
    "    except ValueError:\n",
    "        print(\"Please enter a number.\")\n",
    "        return\n",
    "    \n",
    "    if weight > max_weight:\n",
    "        print(f\"The weight of {weight}kg exceeds the maximum amount of {max_weight}kg\")\n",
    "        return False\n",
    "\n",
    "    try:\n",
    "        length = float(input(\"Input a length (cm): \"))\n",
    "    except ValueError:\n",
    "        print(\"Please enter a number.\")\n",
    "        return\n",
    "    \n",
    "    try:\n",
    "        width = float(input(\"Input a width (cm): \"))\n",
    "    except ValueError:\n",
    "        print(\"Please enter a number.\")\n",
    "        return\n",
    "    \n",
    "    try:\n",
    "        height = float(input(\"Input a height (cm): \"))\n",
    "    except ValueError:\n",
    "        print(\"Please enter a number.\")\n",
    "        return\n",
    "    \n",
    "\n",
    "    # Check if the weight is within the allowed limit\n",
    "    if weight > max_weight:\n",
    "        return False\n",
    "\n",
    "    luggage_dimensions = [length, width, height]\n",
    "    sorted_luggage_dimensions = sorted(luggage_dimensions)\n",
    "    sorted_max_dimensions = sorted(max_dimensions)\n",
    "\n",
    "    # Check if sorted dimensions fit within allowed limits\n",
    "    if not all(sorted_luggage_dimensions[i] <= sorted_max_dimensions[i] for i in range(3)):\n",
    "        print(f\"The dimensions of the luggage does not fit within allowed limits {\"x\".join(map(str, max_dimensions))}\")\n",
    "        return False\n",
    "    \n",
    "    print(f\"The luggage is allowed on the airplane\")\n",
    "    return True\n",
    "\n",
    "\n",
    "is_luggage_allowed = check_if_luggage_is_allowed()"
   ]
  },
  {
   "cell_type": "markdown",
   "metadata": {},
   "source": [
    "---\n",
    "\n",
    "pr0fez Giang\n",
    "\n",
    "[LinkedIn][linkedIn_pr0fez]\n",
    "\n",
    "[GitHub portfolio][github_portfolio]\n",
    "\n",
    "[linkedIn_pr0fez]: https://www.linkedin.com/in/pr0fezgiang/\n",
    "[github_portfolio]: https://github.com/pr0fez/Portfolio-pr0fez-Giang\n",
    "\n",
    "---"
   ]
  }
 ],
 "metadata": {
  "kernelspec": {
   "display_name": "Python 3.9.6 64-bit",
   "language": "python",
   "name": "python3"
  },
  "language_info": {
   "codemirror_mode": {
    "name": "ipython",
    "version": 3
   },
   "file_extension": ".py",
   "mimetype": "text/x-python",
   "name": "python",
   "nbconvert_exporter": "python",
   "pygments_lexer": "ipython3",
   "version": "3.12.5"
  },
  "orig_nbformat": 4,
  "vscode": {
   "interpreter": {
    "hash": "0da836a34428266995a795f1e1e27b816fa1c02f148d9728b3fbbbc5459afca6"
   }
  }
 },
 "nbformat": 4,
 "nbformat_minor": 2
}
