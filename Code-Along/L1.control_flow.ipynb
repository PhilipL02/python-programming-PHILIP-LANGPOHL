{
 "cells": [
  {
   "cell_type": "code",
   "execution_count": 1,
   "metadata": {},
   "outputs": [],
   "source": [
    "# Type hints\n",
    "a: int = 3\n",
    "name: str = \"my name\"\n",
    "\n",
    "# Kan ändå byta typ på variabel\n",
    "name = 4"
   ]
  },
  {
   "cell_type": "code",
   "execution_count": null,
   "metadata": {},
   "outputs": [],
   "source": [
    "f = False\n",
    "t = True\n",
    "\n",
    "# if conditional:\n",
    "#     statements\n",
    "#     ...\n",
    "# else:\n",
    "#     statements\n",
    "#     ..."
   ]
  },
  {
   "cell_type": "code",
   "execution_count": 3,
   "metadata": {},
   "outputs": [
    {
     "name": "stdout",
     "output_type": "stream",
     "text": [
      "Åldersgräns är 15 år, pröva en annan film.\n"
     ]
    }
   ],
   "source": [
    "age = int(input(\"Enter your age: \"))\n",
    "age_limit = 15\n",
    "\n",
    "if age >= age_limit:\n",
    "    print(\"Du får se filmen! Välkommen!\")\n",
    "else:\n",
    "    print(\"Åldersgräns är 15 år, pröva en annan film.\")"
   ]
  },
  {
   "cell_type": "code",
   "execution_count": 5,
   "metadata": {},
   "outputs": [
    {
     "name": "stdout",
     "output_type": "stream",
     "text": [
      "Even number!\n"
     ]
    }
   ],
   "source": [
    "number = 4\n",
    "if number % 2 == 0:\n",
    "    print(\"Even number!\")\n",
    "else:\n",
    "    print(\"Odd number!\")"
   ]
  },
  {
   "cell_type": "code",
   "execution_count": null,
   "metadata": {},
   "outputs": [],
   "source": [
    "# while condition:\n",
    "#   statements\n",
    "#   ..."
   ]
  },
  {
   "cell_type": "code",
   "execution_count": 3,
   "metadata": {},
   "outputs": [
    {
     "name": "stdout",
     "output_type": "stream",
     "text": [
      "Still True 2\n",
      "Still True 4\n",
      "Still True 6\n",
      "Still True 8\n",
      "Still True 10\n",
      "Still True 12\n"
     ]
    }
   ],
   "source": [
    "loop = True\n",
    "n = 0\n",
    "while loop:\n",
    "    n = n + 2\n",
    "    print(f\"Still True {n}\")\n",
    "    if n > 10:\n",
    "        loop = False"
   ]
  }
 ],
 "metadata": {
  "kernelspec": {
   "display_name": "Python 3",
   "language": "python",
   "name": "python3"
  },
  "language_info": {
   "codemirror_mode": {
    "name": "ipython",
    "version": 3
   },
   "file_extension": ".py",
   "mimetype": "text/x-python",
   "name": "python",
   "nbconvert_exporter": "python",
   "pygments_lexer": "ipython3",
   "version": "3.12.5"
  }
 },
 "nbformat": 4,
 "nbformat_minor": 2
}
