{
 "cells": [
  {
   "cell_type": "code",
   "execution_count": 23,
   "metadata": {},
   "outputs": [
    {
     "name": "stdout",
     "output_type": "stream",
     "text": [
      "a Testing testing\n",
      "rad 2\n",
      "\n",
      "rad 4hejhejhejhejhejhejhejhejhejhejhejhejhejhejhejhejhejhejhejhejhejhej\n",
      "b Testing testing\n",
      "rad 2\n",
      "\n",
      "rad 4hejhejhejhejhejhejhejhejhejhejhejhejhejhejhejhejhejhejhejhejhejhejhejhej\n"
     ]
    }
   ],
   "source": [
    "path = \"textfil.txt\"\n",
    "\n",
    "# with open(path, options) as file:\n",
    "# Användning av with är viktigt för att fil automatiskt ska stängas. Likadant för databaser där kopplingen ska avslutas.\n",
    "with open(path, 'r+') as file:\n",
    "    my_string = file.read()\n",
    "    print(\"a\", my_string)\n",
    "\n",
    "    file.write(\"hejhej\")\n",
    "    \n",
    "    file.seek(0)\n",
    "\n",
    "    my_string2 = file.read()\n",
    "    print(\"b\", my_string2)\n"
   ]
  }
 ],
 "metadata": {
  "kernelspec": {
   "display_name": ".venv",
   "language": "python",
   "name": "python3"
  },
  "language_info": {
   "codemirror_mode": {
    "name": "ipython",
    "version": 3
   },
   "file_extension": ".py",
   "mimetype": "text/x-python",
   "name": "python",
   "nbconvert_exporter": "python",
   "pygments_lexer": "ipython3",
   "version": "3.12.5"
  }
 },
 "nbformat": 4,
 "nbformat_minor": 2
}
