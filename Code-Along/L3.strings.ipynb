{
 "cells": [
  {
   "cell_type": "code",
   "execution_count": 5,
   "metadata": {},
   "outputs": [
    {
     "name": "stdout",
     "output_type": "stream",
     "text": [
      "Name: Philip Langpohl\n",
      "School: IT-Högskolan\n",
      "Address: Enne Lieberathsgatan\n",
      "Phone: 1-800-school\n",
      "\n"
     ]
    }
   ],
   "source": [
    "first_name = \"Philip\"\n",
    "last_name = \"Langpohl\"\n",
    "\n",
    "full_name = first_name + \" \" + last_name\n",
    "\n",
    "school = \"IT-Högskolan\"\n",
    "address = \"Enne Lieberathsgatan\"\n",
    "phone = \"1-800-school\"\n",
    "\n",
    "contact_details = f\"\"\"\n",
    "Name: {full_name}\n",
    "School: {school}\n",
    "Address: {address}\n",
    "Phone: {phone}\n",
    "\"\"\"\n",
    "\n",
    "print(contact_details)"
   ]
  },
  {
   "cell_type": "code",
   "execution_count": 10,
   "metadata": {},
   "outputs": [
    {
     "name": "stdout",
     "output_type": "stream",
     "text": [
      "Veckomeny\n",
      "1. Må: Chili sin carne \n",
      "2. Ti: Nudlar \n",
      "3. On: Pannkakor \n",
      "4. To: Pokebowl \n",
      "5. Fr: Tacos \n",
      "\n"
     ]
    }
   ],
   "source": [
    "bamba = [\"Chili sin carne\", \"Nudlar\", \"Pannkakor\", \"Pokebowl\", \"Tacos\"]\n",
    "days = [\"Må\", \"Ti\", \"On\", \"To\", \"Fr\"]\n",
    "numbers = [\"1\", \"2\", \"3\", \"4\", \"5\"]\n",
    "\n",
    "menu = \"Veckomeny\\n\"\n",
    "\n",
    "for day, food, number in zip(days, bamba, numbers):\n",
    "    menu += f\"{number}. {day}: {food} \\n\"\n",
    "\n",
    "print(menu)"
   ]
  },
  {
   "cell_type": "code",
   "execution_count": 24,
   "metadata": {},
   "outputs": [
    {
     "name": "stdout",
     "output_type": "stream",
     "text": [
      "quoute[0] = !\n",
      "quoute[5:10] = e - i\n",
      "quoute[1:11:2] = Fle-i\n",
      "quoute[::-1] = eurT s'ti esuaceb ynnuf s'ti - eslaF!\n",
      "quoute[::2] = !as  tsfnybcuei' re\n",
      "quoute[-4] = T\n",
      "quoute[-4:] = True\n"
     ]
    }
   ],
   "source": [
    "quote = \"!False - it's funny because it's True\"\n",
    "print(f\"quoute[0] = {quote[0]}\")\n",
    "print(f\"quoute[5:10] = {quote[5:10]}\")\n",
    "print(f\"quoute[1:11:2] = {quote[1:11:2]}\")\n",
    "print(f\"quoute[::-1] = {quote[::-1]}\")\n",
    "print(f\"quoute[::2] = {quote[::2]}\")\n",
    "print(f\"quoute[-4] = {quote[-4]}\")\n",
    "print(f\"quoute[-4:] = {quote[-4:]}\")"
   ]
  },
  {
   "cell_type": "code",
   "execution_count": 32,
   "metadata": {},
   "outputs": [
    {
     "name": "stdout",
     "output_type": "stream",
     "text": [
      "['Maths', 'Chemistry', 'Programming']\n"
     ]
    }
   ],
   "source": [
    "subjects_string = \"Maths, chemistry, programming\"\n",
    "subjects_list = subjects_string.split(\",\")\n",
    "stripped = [x.strip().capitalize() for x in subjects_list]\n",
    "print(stripped)"
   ]
  }
 ],
 "metadata": {
  "kernelspec": {
   "display_name": ".venv",
   "language": "python",
   "name": "python3"
  },
  "language_info": {
   "codemirror_mode": {
    "name": "ipython",
    "version": 3
   },
   "file_extension": ".py",
   "mimetype": "text/x-python",
   "name": "python",
   "nbconvert_exporter": "python",
   "pygments_lexer": "ipython3",
   "version": "3.12.5"
  }
 },
 "nbformat": 4,
 "nbformat_minor": 2
}
